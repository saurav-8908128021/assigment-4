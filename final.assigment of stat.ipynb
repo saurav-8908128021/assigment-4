{
 "cells": [
  {
   "cell_type": "markdown",
   "metadata": {},
   "source": [
    "# Problem Statement 1:\n",
    "Is gender independent of education level? A random sample of 395 people were\n",
    "surveyed and each person was asked to report the highest education level they\n",
    "obtained. The data that resulted from the survey is summarized in the following table:\n",
    "High School Bachelors Masters Ph.d. Total\n",
    "Female 60 54 46 41 201\n",
    "Male 40 44 53 57 194\n",
    "Total 100 98 99 98 395\n",
    "Question: Are gender and education level dependent at 5% level of significance? In\n",
    "other words, given the data collected above, is there a relationship between the\n",
    "gender of an individual and the level of education that they have obtained?"
   ]
  },
  {
   "cell_type": "markdown",
   "metadata": {},
   "source": [
    "# Ans-Chi-Square Test Statistic\n",
    "    where O represents the observed frequency. E is the expected frequency under the null hypothesis and computed by:\n",
    "\n",
    "Formula=chi^2=sum(O-E)^2/E\n",
    "#O represents the observed frequency.\n",
    "#E is the expected frequency under the null hypothesis.\n",
    "#E=(total row *total column)/sample size\n",
    "#If the value of the test statistic to the critical value of with degree of freedom = (r - 1) (c - 1), and reject the null hypothesis if .\n",
    "\n",
    "Applying formula=\n",
    "\n",
    "chi^2= dfrac{(60−50.886)^2}{50.886} + \\cdots + \\dfrac{(57 − 48.132)^2}{48.132} = 8.006\n",
    "\n",
    "The critical value of\n",
    "with 3 degree of freedom is 7.815. Since 8.006 > 7.815, we reject the null hypothesis and conclude that the education level depends on gender at a 5% level of significance."
   ]
  },
  {
   "cell_type": "markdown",
   "metadata": {},
   "source": [
    "# Problem statement -2\n",
    "Using the following data, perform a oneway analysis of variance using α=.05. Write\n",
    "up the results in APA format.\n",
    "\n",
    "[Group1: 51, 45, 33, 45, 67]\n",
    "[Group2: 23, 43, 23, 43, 45]\n",
    "[Group3: 56, 76, 74, 87, 56]"
   ]
  },
  {
   "cell_type": "markdown",
   "metadata": {},
   "source": [
    "Ans-\n",
    "        Group-1=sum-->241,mean-->48.2\n",
    "        Group-2=sum-->177,mean--->35.4\n",
    "        Group-3=sum--->349,mean--->69.8\n",
    "            Total sum=767,Total mean=51.13\n",
    "            \n",
    "# Null and Alternate Hypothesis  assumption\n",
    "         H0: μ1 = μ2 = μ3\n",
    "         Ha: μ1 ≠ μ2 ≠ μ3  \n",
    "          α=.05\n",
    "#if the critical value of F from tables is less than the calculated value of F, we reject the null hypothesis.\n",
    "        \n",
    "#Calculate the Degrees of Freedom\n",
    "#The degrees of freedom are calculated using the formula below.\n",
    "dftotal =        n – 1 = 15 – 1 = 14\n",
    "dfwithin =     n – k = 15 – 3 = 12\n",
    "dfbetween = k – 1 = 3 – 1 = 2\n",
    "\n",
    "Verify that dftotal = dfbetween + dfwithin\n",
    "\n",
    "#Calculate the Mean Squares\n",
    "Msbetween=ss between /df between=3022/2=1511.47\n",
    "Ms within=ss within  /df within=1860/12=155.07\n",
    "\n",
    "\n",
    "# calculating the f- statastic\n",
    "Ms between/ Ms within=1511.47/155.07=9.75\n",
    "From the table of F distribution, the critical value of F for 0.05 significance and degrees of freedom of(df1 = 12 and df2 = 2)\n",
    "we have:F = 3.89\n",
    "    \n",
    "    \n",
    "conclusion= F is greater than the tabulated value, we reject the null hypothesis and conclude that at least two of the means are significantly different from each other.\n",
    "\n",
    "        "
   ]
  },
  {
   "cell_type": "markdown",
   "metadata": {},
   "source": [
    "# Problem Statement 3:\n",
    "Calculate F Test for given 10, 20, 30, 40, 50 and 5,10,15, 20, 25.\n",
    "For 10, 20, 30, 40, 50:"
   ]
  },
  {
   "cell_type": "markdown",
   "metadata": {},
   "source": [
    "# Ans-\n",
    " F Test uses an F Statistic to compare two variances, s1 and s2, by dividing them. \n",
    " . The equation for comparing two variances with the f-test is: F = (s^2)1 / (s^2)2. \n",
    " If the variances are equal, the ratio of the variances will equal 1.\n",
    " You always test that the population variances are equal when running an F Test. In other words, you always assume that the variances are equal to 1. Therefore, your null hypothesis will always be that the variances are equal.\n",
    "Assumptions.\n",
    "\n",
    "#x=10, 20, 30, 40, 50\n",
    "Mean (xm)= (x1+x1+x2...xn)/N\n",
    "Mean (xm)= 150/5\n",
    "Means(xm)= 30\n",
    "SD=sqrt(1/(N-1)*((x1-xm)2+(x2-xm)2+..+(xn-xm)2))\n",
    "=sqrt(1/(5-1)((10-30)2+(20-30)2+(30-30)2+(40-30)2+(50-30)2)) \n",
    "=sqrt(1/4((-20)2+(-10)2+(0)2+(10)2+(20)2))\n",
    "=sqrt(1/4((400)+(100)+(0)+(100)+(400)))\n",
    "=sqrt(250)\n",
    "=15.8114\n",
    "Variance=SD2\n",
    "Variance=15.81142\n",
    "Variance=250\n",
    "\n",
    "\n",
    "#x= 5,10,15, 20, 25.\n",
    "Mean (xm)= (x1+x2+x3...xN)/N\n",
    "Mean (xm)= 75/5\n",
    "Means (xm)= 15\n",
    "SD=sqrt(1/(N-1)*((x1-xm)2+(x2-xm)2+..+(xn-xm)2))\n",
    "=sqrt(1/(5-1)((5-15)2+(10-15)2+(15-15)2+(20-15)2+(25-15)2))\n",
    "=sqrt(1/4((-10)2+(-5)2+(0)2+(5)2+(10)2))\n",
    "=sqrt(1/4((100)+(25)+(0)+(25)+(100)))\n",
    "=sqrt(62.5)\n",
    "=7.9057\n",
    "Variance=SD2\n",
    "Variance=7.90572\n",
    "Variance=62.5 \n",
    "\n",
    "F Test = (variance of 10, 20,30,40,50) / (variance of 5, 10, 15, 20, 25)\n",
    "= 250/62.5\n",
    "= 4.\n",
    "\n",
    "The F Test value is 4.\n",
    "f value is 4.0 with an f critical value of 3.2.\n",
    "#Reject the null hypothesis\n",
    "\n",
    "\n",
    "Our F-value of 4.0 indicates that the between-groups variance is 4.0 times the size of the within-group variance.\n",
    "The null hypothesis value is that variances are equal(H0), which produces an F-value of 1.\n",
    "our F-value is 4.0 large enough to reject the null hypothesis?"
   ]
  },
  {
   "cell_type": "code",
   "execution_count": null,
   "metadata": {},
   "outputs": [],
   "source": []
  }
 ],
 "metadata": {
  "kernelspec": {
   "display_name": "Python 3",
   "language": "python",
   "name": "python3"
  },
  "language_info": {
   "codemirror_mode": {
    "name": "ipython",
    "version": 3
   },
   "file_extension": ".py",
   "mimetype": "text/x-python",
   "name": "python",
   "nbconvert_exporter": "python",
   "pygments_lexer": "ipython3",
   "version": "3.7.3"
  }
 },
 "nbformat": 4,
 "nbformat_minor": 2
}
